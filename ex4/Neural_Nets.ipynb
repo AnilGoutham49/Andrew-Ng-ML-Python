{
 "cells": [
  {
   "cell_type": "markdown",
   "metadata": {},
   "source": [
    "Imports"
   ]
  },
  {
   "cell_type": "code",
   "execution_count": 1,
   "metadata": {},
   "outputs": [],
   "source": [
    "import numpy as np\n",
    "import pandas as pd\n",
    "import matplotlib.pyplot as plt\n",
    "from scipy.io import loadmat"
   ]
  },
  {
   "cell_type": "markdown",
   "metadata": {},
   "source": [
    "Loading Data"
   ]
  },
  {
   "cell_type": "code",
   "execution_count": 2,
   "metadata": {},
   "outputs": [],
   "source": [
    "# Use loadmat to load matlab files\n",
    "mat=loadmat('ex4/ex4data1.mat')\n",
    "\n",
    "# mat is a dict with key \"X\" for x-values, and key \"y\" for y values\n",
    "X=mat[\"X\"]\n",
    "y=mat[\"y\"]"
   ]
  },
  {
   "cell_type": "code",
   "execution_count": 3,
   "metadata": {},
   "outputs": [],
   "source": [
    "weights = loadmat('ex4/ex4weights.mat')"
   ]
  },
  {
   "cell_type": "code",
   "execution_count": 4,
   "metadata": {},
   "outputs": [],
   "source": [
    "T1, T2 = weights['Theta1'], weights['Theta2']"
   ]
  },
  {
   "cell_type": "code",
   "execution_count": 5,
   "metadata": {},
   "outputs": [
    {
     "data": {
      "text/plain": [
       "((25, 401), (10, 26))"
      ]
     },
     "execution_count": 5,
     "metadata": {},
     "output_type": "execute_result"
    }
   ],
   "source": [
    "T1.shape, T2.shape"
   ]
  },
  {
   "cell_type": "markdown",
   "metadata": {},
   "source": [
    "Predictions"
   ]
  },
  {
   "cell_type": "code",
   "execution_count": 6,
   "metadata": {},
   "outputs": [],
   "source": [
    "def sigmoid(z):\n",
    "    return 1/(1 + np.exp(-z))"
   ]
  },
  {
   "cell_type": "code",
   "execution_count": 7,
   "metadata": {},
   "outputs": [],
   "source": [
    "def predict(Theta1, Theta2, X):\n",
    "    X = np.hstack((np.ones((X.shape[0],1)),X))\n",
    "    z2 = sigmoid(X @ Theta1.T)\n",
    "    z2 = np.hstack((np.ones((z2.shape[0],1)),z2))\n",
    "    z3 = z2 @ Theta2.T\n",
    "    return np.argmax(z3, axis=1)+1"
   ]
  },
  {
   "cell_type": "code",
   "execution_count": 8,
   "metadata": {},
   "outputs": [],
   "source": [
    "pred = predict(T1, T2, X)"
   ]
  },
  {
   "cell_type": "code",
   "execution_count": 9,
   "metadata": {},
   "outputs": [
    {
     "name": "stdout",
     "output_type": "stream",
     "text": [
      "Training Set Accuracy: 97.52 %\n"
     ]
    }
   ],
   "source": [
    "print(\"Training Set Accuracy:\",sum(pred[:,np.newaxis]==y)[0]/5000*100,\"%\")"
   ]
  },
  {
   "cell_type": "markdown",
   "metadata": {},
   "source": [
    "Cost Function for the Neural Net"
   ]
  },
  {
   "cell_type": "code",
   "execution_count": 10,
   "metadata": {},
   "outputs": [],
   "source": [
    "def CostFuncNeuralNet(Theta1, Theta2, X, y, num_labels, lambda1):\n",
    "    m = len(y)\n",
    "    X = np.hstack((np.ones((X.shape[0],1)),X))\n",
    "    z2 = X @ Theta1.T\n",
    "    a2 = sigmoid(z2)\n",
    "    a2 = np.hstack((np.ones((a2.shape[0],1)),a2))\n",
    "    z3 = a2 @ Theta2.T\n",
    "    a3 = sigmoid(z3)\n",
    "    J = 0\n",
    "    t3 = lambda1/(2*m) * (np.sum(np.sum(Theta1**2, axis=1)) + np.sum(np.sum(Theta2**2, axis=1)))\n",
    "    l3 = np.ones((5000,1))\n",
    "    for i in range(1,num_labels+1):\n",
    "        fake_ds = np.where(y==i, 1, 0)\n",
    "        t1 = -(fake_ds * np.log(a3[:, i-1][:, np.newaxis]))\n",
    "        t2 = -(1 - fake_ds)*(np.log(1 - a3[:, i-1][:, np.newaxis]))\n",
    "        cost = sum(t1+t2)\n",
    "        J = J + cost\n",
    "        diff3 = a3[:, i-1][:, np.newaxis] - fake_ds\n",
    "        l3 = np.hstack((l3, diff3))\n",
    "    J = J/m\n",
    "    J_reg = J + t3\n",
    "    gz2 = sigmoid(np.hstack((np.ones((m,1)), z2))) * sigmoid(1 - np.hstack(((np.ones((m,1)), z2))))\n",
    "    l2 = (Theta2.T @ l3[:, 1:].T) * gz2.T\n",
    "    grad1 = l2[1:, :] @ X\n",
    "    grad2 = l3[:, 1:].T @ a2\n",
    "    grad1 = 1/m * grad1\n",
    "    grad2 = 1/m * grad2\n",
    "    grad1_reg = grad1 + (lambda1/m) * np.hstack((np.zeros((Theta1.shape[0], 1)), Theta1[:, 1:]))\n",
    "    grad2_reg = grad2 + (lambda1/m) * np.hstack((np.zeros((Theta2.shape[0], 1)), Theta2[:, 1:]))\n",
    "    return J, grad1, grad2, J_reg, grad1_reg, grad2_reg"
   ]
  },
  {
   "cell_type": "markdown",
   "metadata": {},
   "source": [
    "Gradient Descent"
   ]
  },
  {
   "cell_type": "code",
   "execution_count": 11,
   "metadata": {},
   "outputs": [
    {
     "data": {
      "text/plain": [
       "(0.1188177051572009, 0.4140393356054125)"
      ]
     },
     "execution_count": 11,
     "metadata": {},
     "output_type": "execute_result"
    }
   ],
   "source": [
    "e_init1 = np.sqrt(6)/np.sqrt(425)\n",
    "e_init2 = np.sqrt(6)/np.sqrt(35)\n",
    "e_init1, e_init2"
   ]
  },
  {
   "cell_type": "code",
   "execution_count": 12,
   "metadata": {},
   "outputs": [],
   "source": [
    "T1_in = (np.random.rand(25,401) * 2 * e_init1) - e_init1\n",
    "T2_in = (np.random.rand(10,26) * 2 * e_init2) - e_init2"
   ]
  },
  {
   "cell_type": "code",
   "execution_count": 13,
   "metadata": {},
   "outputs": [],
   "source": [
    "def GradientDescent(Theta1, Theta2, X, y, num_labels, lambda1, alpha, num_iters):\n",
    "    J_hist = []\n",
    "    for i in range(num_iters):\n",
    "        cost, g1, g2 = CostFuncNeuralNet(Theta1, Theta2, X, y, num_labels, lambda1)[3:]\n",
    "        Theta1 = Theta1 - (alpha*g1)\n",
    "        Theta2 = Theta2 - (alpha*g2)\n",
    "        J_hist.append(cost)\n",
    "    return Theta1, Theta2, J_hist"
   ]
  },
  {
   "cell_type": "code",
   "execution_count": 14,
   "metadata": {},
   "outputs": [],
   "source": [
    "T1f, T2f, Jf = GradientDescent(T1_in, T2_in, X, y, 10, 1, 0.8, 800)"
   ]
  },
  {
   "cell_type": "code",
   "execution_count": 15,
   "metadata": {},
   "outputs": [
    {
     "data": {
      "text/plain": [
       "array([0.49584755])"
      ]
     },
     "execution_count": 15,
     "metadata": {},
     "output_type": "execute_result"
    }
   ],
   "source": [
    "Jf[-1]"
   ]
  },
  {
   "cell_type": "code",
   "execution_count": 16,
   "metadata": {},
   "outputs": [],
   "source": [
    "predf = predict(T1f, T2f, X)"
   ]
  },
  {
   "cell_type": "code",
   "execution_count": 17,
   "metadata": {},
   "outputs": [
    {
     "name": "stdout",
     "output_type": "stream",
     "text": [
      "Training Set Accuracy: 95.04 %\n"
     ]
    }
   ],
   "source": [
    "print(\"Training Set Accuracy:\",sum(predf[:,np.newaxis]==y)[0]/5000*100,\"%\")"
   ]
  },
  {
   "cell_type": "markdown",
   "metadata": {},
   "source": [
    "Plotting the Cost Function"
   ]
  },
  {
   "cell_type": "code",
   "execution_count": 26,
   "metadata": {},
   "outputs": [
    {
     "data": {
      "text/plain": [
       "Text(0.5, 1.0, 'Cost function of the Neural Net')"
      ]
     },
     "execution_count": 26,
     "metadata": {},
     "output_type": "execute_result"
    },
    {
     "data": {
      "image/png": "[encoded data removed]",
      "text/plain": [
       "<Figure size 432x288 with 1 Axes>"
      ]
     },
     "metadata": {
      "needs_background": "light"
     },
     "output_type": "display_data"
    }
   ],
   "source": [
    "plt.plot(Jf[0:800])\n",
    "plt.xlabel(\"Iteration\")\n",
    "plt.ylabel(\"$J(\\Theta)$\")\n",
    "plt.title(\"Cost function of the Neural Net\")"
   ]
  },
  {
   "cell_type": "markdown",
   "metadata": {},
   "source": [
    "Visualizing the Hidden Layer"
   ]
  },
  {
   "cell_type": "code",
   "execution_count": 19,
   "metadata": {},
   "outputs": [
    {
     "data": {
      "text/plain": [
       "(25, 400)"
      ]
     },
     "execution_count": 19,
     "metadata": {},
     "output_type": "execute_result"
    }
   ],
   "source": [
    "_ = T1f[:, 1:]\n",
    "_.shape"
   ]
  },
  {
   "cell_type": "code",
   "execution_count": 22,
   "metadata": {},
   "outputs": [
    {
     "data": {
      "image/png": "[encoded data removed]",
      "text/plain": [
       "<Figure size 288x288 with 16 Axes>"
      ]
     },
     "metadata": {
      "needs_background": "light"
     },
     "output_type": "display_data"
    }
   ],
   "source": [
    "import matplotlib.image as mpimg\n",
    "fig, axis = plt.subplots(4,4,figsize=(4,4))\n",
    "for i in range(4):\n",
    "    for j in range(4):\n",
    "        axis[i,j].imshow(_[np.random.randint(0,25),:].reshape(20,20,order=\"F\"), cmap=\"gray\") #reshape to 20*20 pixels\n",
    "        axis[i,j].axis(\"off\")"
   ]
  },
  {
   "cell_type": "markdown",
   "metadata": {},
   "source": [
    "Rough"
   ]
  },
  {
   "cell_type": "code",
   "execution_count": null,
   "metadata": {},
   "outputs": [],
   "source": []
  }
 ],
 "metadata": {
  "kernelspec": {
   "display_name": "Python 3",
   "language": "python",
   "name": "python3"
  },
  "language_info": {
   "codemirror_mode": {
    "name": "ipython",
    "version": 3
   },
   "file_extension": ".py",
   "mimetype": "text/x-python",
   "name": "python",
   "nbconvert_exporter": "python",
   "pygments_lexer": "ipython3",
   "version": "3.7.4"
  }
 },
 "nbformat": 4,
 "nbformat_minor": 2
}
