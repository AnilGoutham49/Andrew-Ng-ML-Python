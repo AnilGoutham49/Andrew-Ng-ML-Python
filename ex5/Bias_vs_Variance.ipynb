{
 "cells": [
  {
   "cell_type": "markdown",
   "metadata": {},
   "source": [
    "Imports"
   ]
  },
  {
   "cell_type": "code",
   "execution_count": 1,
   "metadata": {},
   "outputs": [],
   "source": [
    "import numpy as np\n",
    "import pandas as pd\n",
    "import matplotlib.pyplot as plt\n",
    "from scipy.io import loadmat"
   ]
  },
  {
   "cell_type": "markdown",
   "metadata": {},
   "source": [
    "Loading the Data"
   ]
  },
  {
   "cell_type": "code",
   "execution_count": 2,
   "metadata": {},
   "outputs": [],
   "source": [
    "mat=loadmat('ex5/ex5data1.mat')"
   ]
  },
  {
   "cell_type": "code",
   "execution_count": 3,
   "metadata": {},
   "outputs": [],
   "source": [
    "X, y = mat['X'], mat['y']"
   ]
  },
  {
   "cell_type": "markdown",
   "metadata": {},
   "source": [
    "Input Data Plot"
   ]
  },
  {
   "cell_type": "code",
   "execution_count": 4,
   "metadata": {},
   "outputs": [
    {
     "data": {
      "text/plain": [
       "Text(0.5, 1.0, 'Training Set')"
      ]
     },
     "execution_count": 4,
     "metadata": {},
     "output_type": "execute_result"
    },
    {
     "data": {
      "image/png": "[encoded data removed]",
      "text/plain": [
       "<Figure size 432x288 with 1 Axes>"
      ]
     },
     "metadata": {
      "needs_background": "light"
     },
     "output_type": "display_data"
    }
   ],
   "source": [
    "fig, ax1 = plt.subplots()\n",
    "ax1.scatter(X, y, marker='x', c='r')\n",
    "ax1.set_xlabel('Change in water level (x)')\n",
    "ax1.set_ylabel('Water flowing out of the dam (y)')\n",
    "ax1.set_title('Training Set')"
   ]
  },
  {
   "cell_type": "markdown",
   "metadata": {},
   "source": [
    "Learning $\\theta$ for Linear Regression using Gradient Descent"
   ]
  },
  {
   "cell_type": "code",
   "execution_count": 5,
   "metadata": {},
   "outputs": [],
   "source": [
    "in_theta_lin = np.array([1.0,1.0])"
   ]
  },
  {
   "cell_type": "code",
   "execution_count": 6,
   "metadata": {},
   "outputs": [],
   "source": [
    "def LinRegCostFunc(X, y, theta, lambda1):\n",
    "    m = X.shape[0]\n",
    "    htx = theta[0] + theta[1]*X\n",
    "    J = 0.5 * (1/m) * np.sum((htx - y)**2)\n",
    "    J_reg = J + ((0.5 * lambda1) * (1/m) * (theta[1]**2))\n",
    "    j0 = (1/m) * np.sum(htx-y)\n",
    "    j1 = (1/m) * np.sum((htx-y)*X) + (1/m) * lambda1 * theta[1]\n",
    "    return J_reg, j0, j1"
   ]
  },
  {
   "cell_type": "code",
   "execution_count": 7,
   "metadata": {},
   "outputs": [
    {
     "data": {
      "text/plain": [
       "(303.9931922202643, -15.303015674201186, 598.2507441727035)"
      ]
     },
     "execution_count": 7,
     "metadata": {},
     "output_type": "execute_result"
    }
   ],
   "source": [
    "LinRegCostFunc(X, y, in_theta_lin, 1)"
   ]
  },
  {
   "cell_type": "code",
   "execution_count": 8,
   "metadata": {},
   "outputs": [],
   "source": [
    "def LinRegGradDesc(X, y, theta, lambda1, alpha, num_iters):\n",
    "    J_hist = []\n",
    "    theta_hist = []\n",
    "    for i in range(num_iters):\n",
    "        J, j0, j1 = LinRegCostFunc(X, y, theta, lambda1)\n",
    "        t1 = theta[0] - alpha*j0\n",
    "        t2 = theta[1] - alpha*j1\n",
    "        theta_hist.append(np.array([t1,t2]))\n",
    "        theta[0] = t1\n",
    "        theta[1] = t2\n",
    "        J_hist.append(J)\n",
    "    return J_hist, theta_hist, theta"
   ]
  },
  {
   "cell_type": "code",
   "execution_count": 9,
   "metadata": {},
   "outputs": [],
   "source": [
    "cost, theta_hist, theta_lin = LinRegGradDesc(X, y, in_theta_lin, 0, 0.001, 4000)"
   ]
  },
  {
   "cell_type": "code",
   "execution_count": 10,
   "metadata": {},
   "outputs": [
    {
     "data": {
      "text/plain": [
       "array([12.83833648,  0.36628247])"
      ]
     },
     "execution_count": 10,
     "metadata": {},
     "output_type": "execute_result"
    }
   ],
   "source": [
    "theta_lin"
   ]
  },
  {
   "cell_type": "code",
   "execution_count": 11,
   "metadata": {},
   "outputs": [
    {
     "data": {
      "text/plain": [
       "22.404158253449673"
      ]
     },
     "execution_count": 11,
     "metadata": {},
     "output_type": "execute_result"
    }
   ],
   "source": [
    "cost[-1]"
   ]
  },
  {
   "cell_type": "code",
   "execution_count": 12,
   "metadata": {},
   "outputs": [
    {
     "data": {
      "text/plain": [
       "-5.475787063813311"
      ]
     },
     "execution_count": 12,
     "metadata": {},
     "output_type": "execute_result"
    }
   ],
   "source": [
    "-50*theta_lin[1] + theta_lin[0]"
   ]
  },
  {
   "cell_type": "code",
   "execution_count": 13,
   "metadata": {},
   "outputs": [
    {
     "data": {
      "text/plain": [
       "27.489635311404275"
      ]
     },
     "execution_count": 13,
     "metadata": {},
     "output_type": "execute_result"
    }
   ],
   "source": [
    "40*theta_lin[1] + theta_lin[0]"
   ]
  },
  {
   "cell_type": "markdown",
   "metadata": {},
   "source": [
    "Regression Line and Cost Plots"
   ]
  },
  {
   "cell_type": "code",
   "execution_count": 14,
   "metadata": {},
   "outputs": [
    {
     "data": {
      "text/plain": [
       "[<matplotlib.lines.Line2D at 0x2119831aa08>]"
      ]
     },
     "execution_count": 14,
     "metadata": {},
     "output_type": "execute_result"
    },
    {
     "data": {
      "image/png": "[encoded data removed]",
      "text/plain": [
       "<Figure size 432x288 with 1 Axes>"
      ]
     },
     "metadata": {
      "needs_background": "light"
     },
     "output_type": "display_data"
    }
   ],
   "source": [
    "fig, ax1 = plt.subplots()\n",
    "ax1.scatter(X, y, marker='x', c='r')\n",
    "ax1.set_xlabel('Change in water level (x)')\n",
    "ax1.set_ylabel('Water flowing out of the dam (y)')\n",
    "ax1.set_title('Training Set')\n",
    "ax1.plot([-50, 40], [-5.475787, 27.489635311404275])"
   ]
  },
  {
   "cell_type": "code",
   "execution_count": 15,
   "metadata": {},
   "outputs": [
    {
     "data": {
      "text/plain": [
       "<matplotlib.legend.Legend at 0x2119c657588>"
      ]
     },
     "execution_count": 15,
     "metadata": {},
     "output_type": "execute_result"
    },
    {
     "data": {
      "image/png": "[encoded data removed]",
      "text/plain": [
       "<Figure size 432x288 with 1 Axes>"
      ]
     },
     "metadata": {
      "needs_background": "light"
     },
     "output_type": "display_data"
    }
   ],
   "source": [
    "fig, ax2 = plt.subplots()\n",
    "ax2.set_xlabel('Number of iterations')\n",
    "ax2.set_ylabel('Cost')\n",
    "ax2.set_title('Cost plot')\n",
    "ax2.plot(cost, label='Training Set Cost')\n",
    "ax2.legend()"
   ]
  },
  {
   "cell_type": "markdown",
   "metadata": {},
   "source": [
    "Bias vs Variance (Method 1)"
   ]
  },
  {
   "cell_type": "code",
   "execution_count": 16,
   "metadata": {},
   "outputs": [],
   "source": [
    "Xval, yval = mat['Xval'], mat['yval']"
   ]
  },
  {
   "cell_type": "code",
   "execution_count": 17,
   "metadata": {},
   "outputs": [
    {
     "data": {
      "text/plain": [
       "numpy.float64"
      ]
     },
     "execution_count": 17,
     "metadata": {},
     "output_type": "execute_result"
    }
   ],
   "source": [
    "type(theta_hist[0][0])"
   ]
  },
  {
   "cell_type": "code",
   "execution_count": 18,
   "metadata": {},
   "outputs": [],
   "source": [
    "cvcost = []\n",
    "for i in range(len(cost)):\n",
    "    htx = theta_hist[i][0] + theta_hist[i][1]*Xval\n",
    "    costcv = 0.5 * (1/Xval.shape[0]) * np.sum((htx - yval)**2)\n",
    "    cvcost.append(costcv)"
   ]
  },
  {
   "cell_type": "code",
   "execution_count": 19,
   "metadata": {},
   "outputs": [
    {
     "data": {
      "text/plain": [
       "<matplotlib.legend.Legend at 0x2119c6e23c8>"
      ]
     },
     "execution_count": 19,
     "metadata": {},
     "output_type": "execute_result"
    },
    {
     "data": {
      "image/png": "[encoded data removed]",
      "text/plain": [
       "<Figure size 432x288 with 1 Axes>"
      ]
     },
     "metadata": {
      "needs_background": "light"
     },
     "output_type": "display_data"
    }
   ],
   "source": [
    "fig, ax2 = plt.subplots()\n",
    "ax2.plot(cost, label='Training Set Cost')\n",
    "ax2.set_xlabel('Number of iterations')\n",
    "ax2.set_ylabel('Cost')\n",
    "ax2.set_title('Cost plot for Training and Validation Sets')\n",
    "ax2.plot(cvcost, label='Validation Set Cost')\n",
    "ax2.legend()"
   ]
  },
  {
   "cell_type": "markdown",
   "metadata": {},
   "source": [
    "Bias vs Variance (Method 2) (as instructed in the course)"
   ]
  },
  {
   "cell_type": "code",
   "execution_count": 20,
   "metadata": {},
   "outputs": [],
   "source": [
    "def LearningCurves_lin(X, y, Xval, yval, lambda1):\n",
    "    m = X.shape[0]\n",
    "    err_train, err_val = [], []\n",
    "    for i in range(1, m+1):\n",
    "        theta = LinRegGradDesc(X[0:i, :], y[0:i, :], np.array([1.0,1.0]), 0, 0.001, 3000)[2]\n",
    "        err_train.append(LinRegCostFunc(X[0:i, :], y[0:i, :], theta, 0)[0])\n",
    "        err_val.append(LinRegCostFunc(Xval, yval, theta, 0)[0])\n",
    "    return err_train, err_val"
   ]
  },
  {
   "cell_type": "code",
   "execution_count": 21,
   "metadata": {},
   "outputs": [],
   "source": [
    "err_train_lin, err_val_lin = LearningCurves_lin(X, y, Xval, yval, 0)"
   ]
  },
  {
   "cell_type": "code",
   "execution_count": 22,
   "metadata": {},
   "outputs": [
    {
     "data": {
      "text/plain": [
       "<matplotlib.legend.Legend at 0x2119c779f48>"
      ]
     },
     "execution_count": 22,
     "metadata": {},
     "output_type": "execute_result"
    },
    {
     "data": {
      "image/png": "[encoded data removed]",
      "text/plain": [
       "<Figure size 432x288 with 1 Axes>"
      ]
     },
     "metadata": {
      "needs_background": "light"
     },
     "output_type": "display_data"
    }
   ],
   "source": [
    "fig, ax3 = plt.subplots()\n",
    "ax3.set_title('Learning Curve for Linear Regression')\n",
    "ax3.set_xlabel('Number of training examples')\n",
    "ax3.set_ylabel('Error')\n",
    "ax3.plot(range(12), err_train_lin, label='Train')\n",
    "ax3.plot(range(12), err_val_lin, label='Validation')\n",
    "ax3.legend()"
   ]
  },
  {
   "cell_type": "markdown",
   "metadata": {},
   "source": [
    "Polynomial Regression"
   ]
  },
  {
   "cell_type": "markdown",
   "metadata": {},
   "source": [
    "Feature Mapping and Normalization"
   ]
  },
  {
   "cell_type": "code",
   "execution_count": 23,
   "metadata": {},
   "outputs": [],
   "source": [
    "def PolyFeatures(X, p):\n",
    "    for i in range(2, p+1):\n",
    "        X = np.hstack((X, (X[:, 0]**i)[:, np.newaxis]))\n",
    "    return X"
   ]
  },
  {
   "cell_type": "code",
   "execution_count": 24,
   "metadata": {},
   "outputs": [],
   "source": [
    "def normalizer(X):\n",
    "    n = X.shape[1]\n",
    "    for i in range(n):\n",
    "        y = X[:, i][:, np.newaxis]\n",
    "        mean = y.mean()\n",
    "        std = y.std()\n",
    "        y = (y-mean)/std\n",
    "        X = np.hstack((X,y))\n",
    "    return X[:, n:], mean, std"
   ]
  },
  {
   "cell_type": "code",
   "execution_count": 25,
   "metadata": {},
   "outputs": [],
   "source": [
    "Xpol = PolyFeatures(X, 8)\n",
    "Xnorm, mu, sigma = normalizer(Xpol)"
   ]
  },
  {
   "cell_type": "code",
   "execution_count": 26,
   "metadata": {},
   "outputs": [],
   "source": [
    "Xval_pol = PolyFeatures(Xval, 8)\n",
    "Xval_norm, mu_val, sigma_val = normalizer(Xval_pol)"
   ]
  },
  {
   "cell_type": "markdown",
   "metadata": {},
   "source": [
    "Cost Function & Gradient Descent"
   ]
  },
  {
   "cell_type": "code",
   "execution_count": 27,
   "metadata": {},
   "outputs": [],
   "source": [
    "in_theta_pol = np.zeros((Xnorm.shape[1]+1, 1))"
   ]
  },
  {
   "cell_type": "code",
   "execution_count": 28,
   "metadata": {},
   "outputs": [],
   "source": [
    "def PolyRegCostFunc(X, y, theta, lambda1):\n",
    "    m = X.shape[0]\n",
    "    X = np.hstack((np.ones((m,1)), X))\n",
    "    htx = X @ theta\n",
    "    J = 0.5 * (1/m) * np.sum((htx-y)**2)\n",
    "    J_reg = J + (0.5 * lambda1) * (1/m) * np.sum((theta**2)[1:, :])\n",
    "    j0 = (1/m) * (X.T @ (htx-y))[0]\n",
    "    j1 = (1/m) * (X.T @ (htx-y))[1:] + ((lambda1/m) * theta)[1:]\n",
    "    grad = np.vstack((j0[:, np.newaxis], j1))\n",
    "    return J_reg, grad"
   ]
  },
  {
   "cell_type": "code",
   "execution_count": 29,
   "metadata": {},
   "outputs": [],
   "source": [
    "def PolyRegGradDesc(X, y, theta, lambda1, alpha, num_iters):\n",
    "    J_hist = []\n",
    "    for i in range(num_iters):\n",
    "        J, grad = PolyRegCostFunc(X, y, theta, lambda1)\n",
    "        theta = theta - alpha*grad\n",
    "        J_hist.append(J)\n",
    "    return J_hist, theta"
   ]
  },
  {
   "cell_type": "code",
   "execution_count": 30,
   "metadata": {},
   "outputs": [],
   "source": [
    "cost, theta_pol = PolyRegGradDesc(Xnorm, y, in_theta_pol, 0, 0.01, 3000)"
   ]
  },
  {
   "cell_type": "code",
   "execution_count": 31,
   "metadata": {},
   "outputs": [
    {
     "data": {
      "text/plain": [
       "(140.95412088055392, 0.7324835742363769)"
      ]
     },
     "execution_count": 31,
     "metadata": {},
     "output_type": "execute_result"
    }
   ],
   "source": [
    "cost[0], cost[-1]"
   ]
  },
  {
   "cell_type": "markdown",
   "metadata": {},
   "source": [
    "Cost Function Plot"
   ]
  },
  {
   "cell_type": "code",
   "execution_count": 32,
   "metadata": {},
   "outputs": [
    {
     "data": {
      "text/plain": [
       "[<matplotlib.lines.Line2D at 0x2119c779c88>]"
      ]
     },
     "execution_count": 32,
     "metadata": {},
     "output_type": "execute_result"
    },
    {
     "data": {
      "image/png": "[encoded data removed]",
      "text/plain": [
       "<Figure size 432x288 with 1 Axes>"
      ]
     },
     "metadata": {
      "needs_background": "light"
     },
     "output_type": "display_data"
    }
   ],
   "source": [
    "fig, ax4 = plt.subplots()\n",
    "ax4.set_xlabel('Number of Iterations')\n",
    "ax4.set_ylabel('Cost')\n",
    "ax4.set_title('Polynomial Regression Cost Plot')\n",
    "ax4.plot(cost)"
   ]
  },
  {
   "cell_type": "markdown",
   "metadata": {},
   "source": [
    "Plotting the Regression curve"
   ]
  },
  {
   "cell_type": "code",
   "execution_count": 33,
   "metadata": {},
   "outputs": [
    {
     "data": {
      "text/plain": [
       "[<matplotlib.lines.Line2D at 0x2119c7ff408>]"
      ]
     },
     "execution_count": 33,
     "metadata": {},
     "output_type": "execute_result"
    },
    {
     "data": {
      "image/png": "[encoded data removed]",
      "text/plain": [
       "<Figure size 432x288 with 1 Axes>"
      ]
     },
     "metadata": {
      "needs_background": "light"
     },
     "output_type": "display_data"
    }
   ],
   "source": [
    "fig, ax5 = plt.subplots()\n",
    "ax5.scatter(X, y, marker='x', c='r')\n",
    "ax5.set_xlabel('Change in water level (x)')\n",
    "ax5.set_ylabel('Water flowing out of the dam (y)')\n",
    "ax5.set_title('Training Set')\n",
    "xmap = np.linspace(-60, 60, 2400)\n",
    "xmap_norm = PolyFeatures(xmap[:, np.newaxis], 8)\n",
    "xmap_norm = normalizer(xmap_norm)[0]\n",
    "xmap_norm = np.hstack((np.ones((xmap_norm.shape[0],1)), xmap_norm))\n",
    "ymap_norm = xmap_norm @ theta_pol\n",
    "ax5.plot(xmap, ymap_norm, '--', color='b')"
   ]
  },
  {
   "cell_type": "markdown",
   "metadata": {},
   "source": [
    "Learning Curve for Polynomial Regression"
   ]
  },
  {
   "cell_type": "code",
   "execution_count": 34,
   "metadata": {},
   "outputs": [],
   "source": [
    "def LearningCurves_pol(X, y, Xval, yval, lambda1):\n",
    "    m = X.shape[0]\n",
    "    err_train, err_val = [], []\n",
    "    for i in range(1, m+1):\n",
    "        theta = PolyRegGradDesc(X[0:i, :], y[0:i, :], in_theta_pol, 0, 0.01, 3000)[1]\n",
    "        err_train.append(PolyRegCostFunc(X[0:i, :], y[0:i, :], theta, 0)[0])\n",
    "        err_val.append(PolyRegCostFunc(Xval, yval, theta, 0)[0])\n",
    "    return err_train, err_val"
   ]
  },
  {
   "cell_type": "code",
   "execution_count": 35,
   "metadata": {},
   "outputs": [],
   "source": [
    "err_train_pol, err_val_pol = LearningCurves_pol(Xnorm, y, Xval_norm, yval, 0)"
   ]
  },
  {
   "cell_type": "code",
   "execution_count": 36,
   "metadata": {},
   "outputs": [
    {
     "data": {
      "text/plain": [
       "<matplotlib.legend.Legend at 0x2119d892e48>"
      ]
     },
     "execution_count": 36,
     "metadata": {},
     "output_type": "execute_result"
    },
    {
     "data": {
      "image/png": "[encoded data removed]",
      "text/plain": [
       "<Figure size 432x288 with 1 Axes>"
      ]
     },
     "metadata": {
      "needs_background": "light"
     },
     "output_type": "display_data"
    }
   ],
   "source": [
    "fig, ax6 = plt.subplots()\n",
    "ax6.set_title('Learning Curve for Polynomial Regression')\n",
    "ax6.set_xlabel('Number of training examples')\n",
    "ax6.set_ylabel('Error')\n",
    "ax6.plot(range(12), err_train_pol, label='Training')\n",
    "ax6.plot(range(12), err_val_pol, label='Validation')\n",
    "ax6.legend()"
   ]
  },
  {
   "cell_type": "markdown",
   "metadata": {},
   "source": [
    "Adjusting the Regularization Parameter"
   ]
  },
  {
   "cell_type": "markdown",
   "metadata": {},
   "source": [
    "$\\lambda$ = 1"
   ]
  },
  {
   "cell_type": "code",
   "execution_count": 37,
   "metadata": {},
   "outputs": [],
   "source": [
    "cost_l1, theta_pol_l1 = PolyRegGradDesc(Xnorm, y, in_theta_pol, 1, 0.01, 3000)"
   ]
  },
  {
   "cell_type": "code",
   "execution_count": 38,
   "metadata": {},
   "outputs": [
    {
     "data": {
      "text/plain": [
       "(140.95412088055392, 6.831112607289329)"
      ]
     },
     "execution_count": 38,
     "metadata": {},
     "output_type": "execute_result"
    }
   ],
   "source": [
    "cost_l1[0], cost_l1[-1]"
   ]
  },
  {
   "cell_type": "code",
   "execution_count": 39,
   "metadata": {},
   "outputs": [
    {
     "data": {
      "text/plain": [
       "[<matplotlib.lines.Line2D at 0x2119d892948>]"
      ]
     },
     "execution_count": 39,
     "metadata": {},
     "output_type": "execute_result"
    },
    {
     "data": {
      "image/png": "[encoded data removed]",
      "text/plain": [
       "<Figure size 432x288 with 1 Axes>"
      ]
     },
     "metadata": {
      "needs_background": "light"
     },
     "output_type": "display_data"
    }
   ],
   "source": [
    "fig, ax7 = plt.subplots()\n",
    "ax7.set_xlabel('Number of Iterations')\n",
    "ax7.set_ylabel('Cost')\n",
    "ax7.set_title('Polynomial Regression Cost Plot ($\\lambda$=1)')\n",
    "ax7.plot(cost_l1)"
   ]
  },
  {
   "cell_type": "code",
   "execution_count": 40,
   "metadata": {},
   "outputs": [
    {
     "data": {
      "text/plain": [
       "[<matplotlib.lines.Line2D at 0x2119d928fc8>]"
      ]
     },
     "execution_count": 40,
     "metadata": {},
     "output_type": "execute_result"
    },
    {
     "data": {
      "image/png": "[encoded data removed]",
      "text/plain": [
       "<Figure size 432x288 with 1 Axes>"
      ]
     },
     "metadata": {
      "needs_background": "light"
     },
     "output_type": "display_data"
    }
   ],
   "source": [
    "fig, ax8 = plt.subplots()\n",
    "ax8.scatter(X, y, marker='x', c='r')\n",
    "ax8.set_xlabel('Change in water level (x)')\n",
    "ax8.set_ylabel('Water flowing out of the dam (y)')\n",
    "ax8.set_title('Training Set')\n",
    "xmap_l1 = np.linspace(-60, 60, 2400)\n",
    "xmap_norm_l1 = PolyFeatures(xmap_l1[:, np.newaxis], 8)\n",
    "xmap_norm_l1 = normalizer(xmap_norm_l1)[0]\n",
    "xmap_norm_l1 = np.hstack((np.ones((xmap_norm_l1.shape[0],1)), xmap_norm_l1))\n",
    "ymap_norm_l1 = xmap_norm_l1 @ theta_pol_l1\n",
    "ax8.plot(xmap_l1, ymap_norm_l1, '--', color='b')"
   ]
  },
  {
   "cell_type": "markdown",
   "metadata": {},
   "source": [
    "$\\lambda$ = 100"
   ]
  },
  {
   "cell_type": "code",
   "execution_count": 41,
   "metadata": {},
   "outputs": [],
   "source": [
    "cost_l100, theta_pol_l100 = PolyRegGradDesc(Xnorm, y, in_theta_pol, 100, 0.01, 3000)"
   ]
  },
  {
   "cell_type": "code",
   "execution_count": 42,
   "metadata": {},
   "outputs": [
    {
     "data": {
      "text/plain": [
       "(140.95412088055392, 65.95095506281515)"
      ]
     },
     "execution_count": 42,
     "metadata": {},
     "output_type": "execute_result"
    }
   ],
   "source": [
    "cost_l100[0], cost_l100[-1]"
   ]
  },
  {
   "cell_type": "code",
   "execution_count": 44,
   "metadata": {},
   "outputs": [
    {
     "data": {
      "text/plain": [
       "[<matplotlib.lines.Line2D at 0x2119dadbf88>]"
      ]
     },
     "execution_count": 44,
     "metadata": {},
     "output_type": "execute_result"
    },
    {
     "data": {
      "image/png": "[encoded data removed]",
      "text/plain": [
       "<Figure size 432x288 with 1 Axes>"
      ]
     },
     "metadata": {
      "needs_background": "light"
     },
     "output_type": "display_data"
    }
   ],
   "source": [
    "fig, ax9 = plt.subplots()\n",
    "ax9.scatter(X, y, marker='x', c='r')\n",
    "ax9.set_xlabel('Change in water level (x)')\n",
    "ax9.set_ylabel('Water flowing out of the dam (y)')\n",
    "ax9.set_title('Training Set')\n",
    "xmap_l100 = np.linspace(-60, 60, 2400)\n",
    "xmap_norm_l100 = PolyFeatures(xmap_l100[:, np.newaxis], 8)\n",
    "xmap_norm_l100 = normalizer(xmap_norm_l100)[0]\n",
    "xmap_norm_l100 = np.hstack((np.ones((xmap_norm_l100.shape[0],1)), xmap_norm_l100))\n",
    "ymap_norm_l100 = xmap_norm_l100 @ theta_pol_l100\n",
    "ax9.plot(xmap_l100, ymap_norm_l100, '--', color='b')"
   ]
  },
  {
   "cell_type": "code",
   "execution_count": null,
   "metadata": {},
   "outputs": [],
   "source": []
  }
 ],
 "metadata": {
  "kernelspec": {
   "display_name": "Python 3",
   "language": "python",
   "name": "python3"
  },
  "language_info": {
   "codemirror_mode": {
    "name": "ipython",
    "version": 3
   },
   "file_extension": ".py",
   "mimetype": "text/x-python",
   "name": "python",
   "nbconvert_exporter": "python",
   "pygments_lexer": "ipython3",
   "version": "3.7.4"
  }
 },
 "nbformat": 4,
 "nbformat_minor": 2
}
