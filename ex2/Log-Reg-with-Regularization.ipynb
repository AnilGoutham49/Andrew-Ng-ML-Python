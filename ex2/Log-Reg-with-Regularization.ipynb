{
 "cells": [
  {
   "cell_type": "markdown",
   "metadata": {},
   "source": [
    "Imports"
   ]
  },
  {
   "cell_type": "code",
   "execution_count": 1,
   "metadata": {},
   "outputs": [],
   "source": [
    "import numpy as np\n",
    "import pandas as pd\n",
    "import matplotlib.pyplot as plt\n",
    "from sklearn import linear_model"
   ]
  },
  {
   "cell_type": "markdown",
   "metadata": {},
   "source": [
    "Reading the data"
   ]
  },
  {
   "cell_type": "code",
   "execution_count": 2,
   "metadata": {},
   "outputs": [],
   "source": [
    "df_raw = pd.read_csv('ex2/ex2data2.txt', header=None)"
   ]
  },
  {
   "cell_type": "code",
   "execution_count": 3,
   "metadata": {},
   "outputs": [
    {
     "name": "stdout",
     "output_type": "stream",
     "text": [
      "(118, 3) \n",
      "           0        1  2\n",
      "0  0.051267  0.69956  1\n",
      "1 -0.092742  0.68494  1\n",
      "2 -0.213710  0.69225  1\n",
      "3 -0.375000  0.50219  1\n",
      "4 -0.513250  0.46564  1\n"
     ]
    }
   ],
   "source": [
    "print(df_raw.shape, '\\n', df_raw.head())"
   ]
  },
  {
   "cell_type": "markdown",
   "metadata": {},
   "source": [
    "Plotting the data"
   ]
  },
  {
   "cell_type": "code",
   "execution_count": 4,
   "metadata": {},
   "outputs": [],
   "source": [
    "ps = df_raw[df_raw[2] == 1]\n",
    "os = df_raw[df_raw[2] == 0]"
   ]
  },
  {
   "cell_type": "code",
   "execution_count": 5,
   "metadata": {},
   "outputs": [
    {
     "data": {
      "text/plain": [
       "<matplotlib.legend.Legend at 0x2860983a888>"
      ]
     },
     "execution_count": 5,
     "metadata": {},
     "output_type": "execute_result"
    },
    {
     "data": {
      "image/png": "[encoded data removed]",
      "text/plain": [
       "<Figure size 432x288 with 1 Axes>"
      ]
     },
     "metadata": {
      "needs_background": "light"
     },
     "output_type": "display_data"
    }
   ],
   "source": [
    "fig, ax1 = plt.subplots()\n",
    "ax1.scatter(ps[0], ps[1], marker='+')\n",
    "ax1.scatter(os[0], os[1], marker='o')\n",
    "ax1.set_xlabel('Test1')\n",
    "ax1.set_ylabel('Test2')\n",
    "ax1.set_title('Training Data')\n",
    "ax1.legend(['Pass', 'Fail'], loc='upper right', fontsize=8)"
   ]
  },
  {
   "cell_type": "markdown",
   "metadata": {},
   "source": [
    "Feature Mapping"
   ]
  },
  {
   "cell_type": "code",
   "execution_count": 6,
   "metadata": {},
   "outputs": [],
   "source": [
    "X = df_raw.iloc[:,:-1].values\n",
    "y = df_raw.iloc[:,-1].values"
   ]
  },
  {
   "cell_type": "code",
   "execution_count": 7,
   "metadata": {},
   "outputs": [],
   "source": [
    "def MapFeature(x1, x2, degree):\n",
    "    out = np.ones(len(x1)).reshape(len(x1),1)\n",
    "    for i in range(1, degree+1):\n",
    "        for j in range(i+1):\n",
    "            terms = (x1**(i-j) * x2**j).reshape(len(x1),1)\n",
    "            out = np.hstack((out, terms))\n",
    "    return out"
   ]
  },
  {
   "cell_type": "code",
   "execution_count": 8,
   "metadata": {},
   "outputs": [],
   "source": [
    "X = MapFeature(X[:,0], X[:,1], 6)"
   ]
  },
  {
   "cell_type": "code",
   "execution_count": 9,
   "metadata": {},
   "outputs": [
    {
     "data": {
      "text/plain": [
       "(118, 28)"
      ]
     },
     "execution_count": 9,
     "metadata": {},
     "output_type": "execute_result"
    }
   ],
   "source": [
    "X.shape"
   ]
  },
  {
   "cell_type": "markdown",
   "metadata": {},
   "source": [
    "Computing Regularized Cost Function and Gradient"
   ]
  },
  {
   "cell_type": "code",
   "execution_count": 10,
   "metadata": {},
   "outputs": [],
   "source": [
    "def sigmoid(z):\n",
    "    return 1/(1 + np.exp(-z))"
   ]
  },
  {
   "cell_type": "code",
   "execution_count": 11,
   "metadata": {},
   "outputs": [],
   "source": [
    "def CostFunctionReg(theta, X, y, lambda1):\n",
    "    y = y[:, np.newaxis]\n",
    "    m = len(X)\n",
    "    t1 = -(y*np.log(sigmoid(X @ theta)))\n",
    "    t2 = -(1-y)*(np.log(1 - sigmoid(X @ theta)))\n",
    "    t3 = lambda1/(2*m) * sum(theta**2)\n",
    "    cost = sum(t1+t2)/m\n",
    "    regcost = cost + t3\n",
    "    J_0 = 1/m * (X.transpose() @ (sigmoid(X @ theta) - y))[0]\n",
    "    J_1 = 1/m * (X.transpose() @ (sigmoid(X @ theta) - y))[1:] + (lambda1/m)*theta[1:]\n",
    "    grad = np.vstack((J_0[:, np.newaxis], J_1))\n",
    "    return cost[0], grad"
   ]
  },
  {
   "cell_type": "code",
   "execution_count": 12,
   "metadata": {},
   "outputs": [],
   "source": [
    "initial_theta = np.zeros((X.shape[1], 1))\n",
    "lambda1 = 1\n",
    "cost, grad = CostFunctionReg(initial_theta, X, y, lambda1)"
   ]
  },
  {
   "cell_type": "code",
   "execution_count": 13,
   "metadata": {},
   "outputs": [
    {
     "data": {
      "text/plain": [
       "0.6931471805599461"
      ]
     },
     "execution_count": 13,
     "metadata": {},
     "output_type": "execute_result"
    }
   ],
   "source": [
    "cost"
   ]
  },
  {
   "cell_type": "code",
   "execution_count": 14,
   "metadata": {},
   "outputs": [],
   "source": [
    "def Gradient(num_iters, lr, theta, X, y, lambda1):\n",
    "    m = len(X)\n",
    "    Js = []\n",
    "    for i in range(num_iters):\n",
    "        cost, grad = CostFunctionReg(theta, X, y, lambda1)\n",
    "        theta = theta - (lr*grad)\n",
    "        Js.append(cost)\n",
    "    return theta, Js"
   ]
  },
  {
   "cell_type": "code",
   "execution_count": 15,
   "metadata": {},
   "outputs": [],
   "source": [
    "theta, Js = Gradient(800, 0.2, initial_theta, X, y, 1)"
   ]
  },
  {
   "cell_type": "code",
   "execution_count": 16,
   "metadata": {},
   "outputs": [
    {
     "data": {
      "text/plain": [
       "0.4742169639851524"
      ]
     },
     "execution_count": 16,
     "metadata": {},
     "output_type": "execute_result"
    }
   ],
   "source": [
    "Js[-1]"
   ]
  },
  {
   "cell_type": "code",
   "execution_count": 17,
   "metadata": {},
   "outputs": [
    {
     "data": {
      "text/plain": [
       "array([[ 1.15987756],\n",
       "       [ 0.55051407],\n",
       "       [ 1.09109723],\n",
       "       [-1.85053608],\n",
       "       [-0.77608983],\n",
       "       [-1.20574206],\n",
       "       [ 0.0844071 ],\n",
       "       [-0.32391126],\n",
       "       [-0.32345481],\n",
       "       [-0.18536433],\n",
       "       [-1.36740061],\n",
       "       [-0.0665013 ],\n",
       "       [-0.55429143],\n",
       "       [-0.22755779],\n",
       "       [-1.1090058 ],\n",
       "       [-0.24513659],\n",
       "       [-0.19319407],\n",
       "       [-0.06071696],\n",
       "       [-0.2458457 ],\n",
       "       [-0.25441648],\n",
       "       [-0.49933013],\n",
       "       [-0.98909107],\n",
       "       [ 0.00667865],\n",
       "       [-0.26927432],\n",
       "       [ 0.00246883],\n",
       "       [-0.29670861],\n",
       "       [-0.11504222],\n",
       "       [-0.93031612]])"
      ]
     },
     "execution_count": 17,
     "metadata": {},
     "output_type": "execute_result"
    }
   ],
   "source": [
    "theta"
   ]
  },
  {
   "cell_type": "markdown",
   "metadata": {},
   "source": [
    "Plotting Cost Function"
   ]
  },
  {
   "cell_type": "code",
   "execution_count": 18,
   "metadata": {},
   "outputs": [
    {
     "data": {
      "text/plain": [
       "[<matplotlib.lines.Line2D at 0x1bb94f801c8>]"
      ]
     },
     "execution_count": 18,
     "metadata": {},
     "output_type": "execute_result"
    },
    {
     "data": {
      "image/png": "[encoded data removed]",
      "text/plain": [
       "<Figure size 432x288 with 1 Axes>"
      ]
     },
     "metadata": {
      "needs_background": "light"
     },
     "output_type": "display_data"
    }
   ],
   "source": [
    "import matplotlib.pyplot as plt\n",
    "num_iters1 = np.arange(1,801)\n",
    "fig, ax3 = plt.subplots()\n",
    "ax3.plot(num_iters1, Js)"
   ]
  },
  {
   "cell_type": "markdown",
   "metadata": {},
   "source": [
    "Plotting Decision Boundary"
   ]
  },
  {
   "cell_type": "code",
   "execution_count": 22,
   "metadata": {},
   "outputs": [
    {
     "data": {
      "text/plain": [
       "<matplotlib.contour.QuadContourSet at 0x1bb9524f288>"
      ]
     },
     "execution_count": 22,
     "metadata": {},
     "output_type": "execute_result"
    },
    {
     "data": {
      "image/png": "[encoded data removed]",
      "text/plain": [
       "<Figure size 432x288 with 1 Axes>"
      ]
     },
     "metadata": {
      "needs_background": "light"
     },
     "output_type": "display_data"
    }
   ],
   "source": [
    "def mapFeaturePlot(x1,x2,degree):\n",
    "    \"\"\"\n",
    "    take in numpy array of x1 and x2, return all polynomial terms up to the given degree\n",
    "    \"\"\"\n",
    "    out = np.ones(1)\n",
    "    for i in range(1,degree+1):\n",
    "        for j in range(i+1):\n",
    "            terms= (x1**(i-j) * x2**j)\n",
    "            out= np.hstack((out,terms))\n",
    "    return out\n",
    "\n",
    "pos , neg = (y==1).reshape(118,1) , (y==0).reshape(118,1)\n",
    "\n",
    "u_vals = np.linspace(-1,1.5,50)\n",
    "v_vals= np.linspace(-1,1.5,50)\n",
    "z=np.zeros((len(u_vals),len(v_vals)))\n",
    "for i in range(len(u_vals)):\n",
    "    for j in range(len(v_vals)):\n",
    "        z[i,j] = mapFeaturePlot(u_vals[i],v_vals[j],6) @ theta\n",
    "        \n",
    "plt.scatter(ps[0], ps[1], marker='+')\n",
    "plt.scatter(os[0], os[1], marker='o')\n",
    "plt.xlabel('Test1')\n",
    "plt.ylabel('Test2')\n",
    "plt.title('Training Data')\n",
    "plt.legend(['Pass', 'Fail'], loc='upper right', fontsize=8)\n",
    "plt.contour(u_vals,v_vals,z.T,0)"
   ]
  },
  {
   "cell_type": "markdown",
   "metadata": {},
   "source": [
    "Rough"
   ]
  },
  {
   "cell_type": "code",
   "execution_count": null,
   "metadata": {},
   "outputs": [],
   "source": []
  }
 ],
 "metadata": {
  "kernelspec": {
   "display_name": "Python 3",
   "language": "python",
   "name": "python3"
  },
  "language_info": {
   "codemirror_mode": {
    "name": "ipython",
    "version": 3
   },
   "file_extension": ".py",
   "mimetype": "text/x-python",
   "name": "python",
   "nbconvert_exporter": "python",
   "pygments_lexer": "ipython3",
   "version": "3.7.4"
  }
 },
 "nbformat": 4,
 "nbformat_minor": 2
}
